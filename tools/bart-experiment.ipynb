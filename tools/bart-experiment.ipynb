{
 "cells": [
  {
   "cell_type": "code",
   "execution_count": 13,
   "metadata": {},
   "outputs": [],
   "source": [
    "import torch\n",
    "from transformers import BartForConditionalGeneration, BartTokenizer\n",
    "\n",
    "class SimpleBART(torch.nn.Module):\n",
    "    def __init__(self):\n",
    "        super(SimpleBART, self).__init__()\n",
    "\n",
    "        self.bart = BartForConditionalGeneration.from_pretrained('facebook/bart-base')\n",
    "        self.tokenizer = BartTokenizer.from_pretrained('facebook/bart-base')\n",
    "\n",
    "    def forward(self, input_ids, attention_mask):\n",
    "        return self.bart(input_ids=input_ids, attention_mask=attention_mask)\n",
    "    \n",
    "    def get_sentences_from_beam(self, beam_output):\n",
    "        sentences = []\n",
    "        for sequence in beam_output:\n",
    "            decoded_sentence = self.tokenizer.decode(sequence, skip_special_tokens=True)\n",
    "            sentences.append(decoded_sentence)\n",
    "        return sentences\n",
    "\n",
    "model = SimpleBART()\n",
    "optimizer = torch.optim.Adam(model.parameters(), lr=1e-5)\n",
    "criterion = torch.nn.CrossEntropyLoss()"
   ]
  },
  {
   "cell_type": "code",
   "execution_count": 14,
   "metadata": {},
   "outputs": [
    {
     "name": "stdout",
     "output_type": "stream",
     "text": [
      "> skirt hundred kindergarten aeroplane arrival hot read\n",
      "skirt hundred kindergarten aeroplane arrival hot read\n",
      "skirt thousand kindergarten aeroplane arrival hot read\n",
      "skirt hundred kindergarten aeroplane arrivals hot read\n",
      "skirt hundred kindergarten aeroplane delivery hot read\n"
     ]
    }
   ],
   "source": [
    "english_text = input(\"Enter the source text: \")\n",
    "\n",
    "print(f\"> {english_text}\")\n",
    "\n",
    "input_ids = model.tokenizer.encode(english_text, return_tensors=\"pt\")\n",
    "attention_mask = torch.ones(input_ids.shape)\n",
    "\n",
    "with torch.no_grad():\n",
    "    beam_output = model.bart.generate(\n",
    "        input_ids,\n",
    "        num_beams=4,\n",
    "        max_length=200,\n",
    "        num_return_sequences=4,\n",
    "        eos_token_id=model.tokenizer.eos_token_id\n",
    "    )\n",
    "    sentences = model.get_sentences_from_beam(beam_output)\n",
    "\n",
    "for sentence in sentences:\n",
    "    print(sentence)"
   ]
  }
 ],
 "metadata": {
  "kernelspec": {
   "display_name": "base",
   "language": "python",
   "name": "python3"
  },
  "language_info": {
   "codemirror_mode": {
    "name": "ipython",
    "version": 3
   },
   "file_extension": ".py",
   "mimetype": "text/x-python",
   "name": "python",
   "nbconvert_exporter": "python",
   "pygments_lexer": "ipython3",
   "version": "3.10.9"
  },
  "orig_nbformat": 4
 },
 "nbformat": 4,
 "nbformat_minor": 2
}
